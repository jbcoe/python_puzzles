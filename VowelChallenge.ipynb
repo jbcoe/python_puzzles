{
 "cells": [
  {
   "cell_type": "code",
   "execution_count": 1,
   "metadata": {},
   "outputs": [],
   "source": [
    "VOWELS = \"aeiou\""
   ]
  },
  {
   "cell_type": "code",
   "execution_count": 2,
   "metadata": {},
   "outputs": [],
   "source": [
    "with open('/usr/share/dict/words') as words_file:\n",
    "    words = [word.strip() for word in words_file.readlines()]"
   ]
  },
  {
   "cell_type": "code",
   "execution_count": 3,
   "metadata": {},
   "outputs": [],
   "source": [
    "def just_the_vowels(word):\n",
    "    vowels = [letter for letter in word if letter in VOWELS]\n",
    "    return \"\".join(vowels)"
   ]
  },
  {
   "cell_type": "code",
   "execution_count": 4,
   "metadata": {},
   "outputs": [],
   "source": [
    "solutions = [word for word in words if just_the_vowels(word) == VOWELS]"
   ]
  },
  {
   "cell_type": "code",
   "execution_count": 5,
   "metadata": {},
   "outputs": [
    {
     "data": {
      "text/plain": [
       "['abstemious',\n",
       " 'abstemiously',\n",
       " 'abstentious',\n",
       " 'acheilous',\n",
       " 'acheirous',\n",
       " 'acleistous',\n",
       " 'affectious',\n",
       " 'annelidous',\n",
       " 'arsenious',\n",
       " 'arterious',\n",
       " 'bacterious',\n",
       " 'caesious',\n",
       " 'facetious',\n",
       " 'facetiously',\n",
       " 'fracedinous',\n",
       " 'majestious']"
      ]
     },
     "execution_count": 5,
     "metadata": {},
     "output_type": "execute_result"
    }
   ],
   "source": [
    "solutions"
   ]
  }
 ],
 "metadata": {
  "kernelspec": {
   "display_name": "Python 3",
   "language": "python",
   "name": "python3"
  },
  "language_info": {
   "codemirror_mode": {
    "name": "ipython",
    "version": 3
   },
   "file_extension": ".py",
   "mimetype": "text/x-python",
   "name": "python",
   "nbconvert_exporter": "python",
   "pygments_lexer": "ipython3",
   "version": "3.7.6"
  }
 },
 "nbformat": 4,
 "nbformat_minor": 4
}
