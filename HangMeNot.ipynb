{
 "cells": [
  {
   "cell_type": "code",
   "execution_count": 151,
   "metadata": {},
   "outputs": [],
   "source": [
    "import string # for lowercase letter list\n",
    "import numpy as np"
   ]
  },
  {
   "cell_type": "code",
   "execution_count": 152,
   "metadata": {},
   "outputs": [],
   "source": [
    "with open('/usr/share/dict/words') as o:\n",
    "    DICTIONARY = set([s.strip() for s in o.readlines() if not s[0].isupper()])"
   ]
  },
  {
   "cell_type": "code",
   "execution_count": 153,
   "metadata": {},
   "outputs": [],
   "source": [
    "LETTERS =  string.ascii_lowercase"
   ]
  },
  {
   "cell_type": "code",
   "execution_count": 154,
   "metadata": {},
   "outputs": [],
   "source": [
    "class RandomHangManStrategy:\n",
    " \n",
    "    def init(self):\n",
    "        np.random.seed(1)\n",
    "    \n",
    "    def guess(self, word, excluded_letters, possibilities):\n",
    "        possible_letter = [letter for letter in LETTERS if not letter in excluded_letters]\n",
    "        return np.random.choice(possible_letter, 1)[0]"
   ]
  },
  {
   "cell_type": "code",
   "execution_count": 155,
   "metadata": {},
   "outputs": [],
   "source": [
    "class SimpleHangManStrategy:\n",
    "    \n",
    "    def init(self):\n",
    "        pass\n",
    "    \n",
    "    def guess(self, word, excluded_letters, possibilities):\n",
    "        letter_counts = {}\n",
    "        for word in possibilities:\n",
    "            for letter in word:\n",
    "                if letter in letter_counts:\n",
    "                    letter_counts[letter] += 1\n",
    "                else:\n",
    "                    letter_counts[letter] = 1\n",
    "        \n",
    "        most_common_letter, max_count = '?', 0\n",
    "        for letter, count in letter_counts.items():\n",
    "            if count > max_count and letter not in excluded_letters:\n",
    "                max_count = count\n",
    "                most_common_letter = letter\n",
    "                \n",
    "        return most_common_letter"
   ]
  },
  {
   "cell_type": "code",
   "execution_count": 171,
   "metadata": {},
   "outputs": [],
   "source": [
    "class VowelHangManStrategy:\n",
    "    \n",
    "    def __init__(self, bias=1):\n",
    "        self.common_letters = ['a', 'e', 'i', 'o', 'u', 'y']\n",
    "        self.bias = bias\n",
    "    \n",
    "    def init(self):\n",
    "        pass\n",
    "    \n",
    "    def guess(self, word, excluded_letters, possibilities):\n",
    "        letter_counts = {}\n",
    "        for word in possibilities:\n",
    "            for letter in word:\n",
    "                if letter in self.common_letters:\n",
    "                    if letter in letter_counts:\n",
    "                        letter_counts[letter] += 1 * self.bias\n",
    "                    else:\n",
    "                        letter_counts[letter] = 1 * self.bias\n",
    "                else:\n",
    "                    if letter in letter_counts:\n",
    "                        letter_counts[letter] += 1\n",
    "                    else:\n",
    "                        letter_counts[letter] = 1\n",
    "        \n",
    "        most_common_letter, max_count = '?', 0\n",
    "        for letter, count in letter_counts.items():\n",
    "            if count > max_count and letter not in excluded_letters:\n",
    "                max_count = count\n",
    "                most_common_letter = letter\n",
    "                \n",
    "        return most_common_letter"
   ]
  },
  {
   "cell_type": "code",
   "execution_count": 172,
   "metadata": {},
   "outputs": [],
   "source": [
    "class HangManPlayer:\n",
    "    \n",
    "    def start(self, word_length):\n",
    "        self.excluded_letters = []\n",
    "        self.word = '?' * word_length\n",
    "        self.possibilities = sorted([word for word in DICTIONARY if len(word) == word_length])\n",
    "        self.guesses = 0\n",
    "        self._strategy.init()\n",
    "    \n",
    "    def __init__(self, name, strategy):\n",
    "        self.name = name\n",
    "        self._strategy = strategy\n",
    "        \n",
    "    def guess(self):\n",
    "        if '?' not in self.word:\n",
    "            return f'The word is {self.word}. Guessed in {self.guesses} tries'\n",
    "        \n",
    "        if len(self.possibilities) == 0:\n",
    "            return f'No possible words to try: {self.word}' \n",
    "        \n",
    "        self.guesses += 1\n",
    "        return self._strategy.guess(self.word, self.excluded_letters, self.possibilities)\n",
    "    \n",
    "    def finished(self):\n",
    "        return '?' not in self.word\n",
    "    \n",
    "    @staticmethod\n",
    "    def _keep_word(word, letter, positions):\n",
    "        for i in range(len(word)):\n",
    "            if word[i] != letter and i in positions:\n",
    "                return False\n",
    "            elif word[i] == letter and i not in positions:\n",
    "                return False\n",
    "        return True\n",
    "    \n",
    "    def update_word(self, letter, positions=None):\n",
    "        positions = positions or []\n",
    "        self.excluded_letters.append(letter)\n",
    " \n",
    "        # Update word\n",
    "        updated_word = [letter for letter in self.word]\n",
    "        for position in positions:\n",
    "            if updated_word[position] != '?':\n",
    "                raise Exception(f'Letter at position {position} is already specified as {updated_word[position]}')\n",
    "            updated_word[position] = letter\n",
    "        self.word = ''.join(updated_word)\n",
    "\n",
    "        # Update possibilities\n",
    "        self.possibilities = [\n",
    "            word for word in self.possibilities \n",
    "            if HangManPlayer._keep_word(word, letter, positions)\n",
    "        ]"
   ]
  },
  {
   "cell_type": "code",
   "execution_count": 173,
   "metadata": {},
   "outputs": [],
   "source": [
    "class HangManGame:\n",
    "    \n",
    "    def __init__(self, word, player):\n",
    "        self.word = word\n",
    "        self.player = player\n",
    "        self.steps = 0\n",
    "        \n",
    "    def finished(self):\n",
    "        return self.player.finished()\n",
    "        \n",
    "    def step(self):\n",
    "        assert not self.finished(), \"Game is finished!\"\n",
    "        self.steps += 1\n",
    "        guess = self.player.guess()\n",
    "        positions = []\n",
    "        for i, letter in enumerate(self.word):\n",
    "            if letter == guess:\n",
    "                positions.append(i)\n",
    "        self.player.update_word(guess, positions)\n",
    "        if positions:\n",
    "            print(f\"{self.player.name} correctly guessed '{guess}'.\")\n",
    "        else:\n",
    "            print(f\"{self.player.name} incorrectly guessed '{guess}'.\")"
   ]
  },
  {
   "cell_type": "code",
   "execution_count": 174,
   "metadata": {},
   "outputs": [],
   "source": [
    "def run_game(word, player):\n",
    "    game = HangManGame(word, player)\n",
    "    player.start(len(word))\n",
    "\n",
    "    while not game.finished():\n",
    "        game.step()\n",
    "    print(f\"{player.name} got '{word}' in {game.steps}.\")"
   ]
  },
  {
   "cell_type": "code",
   "execution_count": 175,
   "metadata": {},
   "outputs": [],
   "source": [
    "def compare_players(word, players):\n",
    "    for player in players:\n",
    "        run_game(word, player) "
   ]
  },
  {
   "cell_type": "code",
   "execution_count": 178,
   "metadata": {},
   "outputs": [
    {
     "name": "stdout",
     "output_type": "stream",
     "text": [
      "Simple incorrectly guessed 'e'.\n",
      "Simple correctly guessed 'i'.\n",
      "Simple correctly guessed 'a'.\n",
      "Simple correctly guessed 'l'.\n",
      "Simple correctly guessed 'c'.\n",
      "Simple correctly guessed 'p'.\n",
      "Simple correctly guessed 'r'.\n",
      "Simple correctly guessed 't'.\n",
      "Simple got 'practical' in 8.\n",
      "Vowel-focused incorrectly guessed 'e'.\n",
      "Vowel-focused correctly guessed 'i'.\n",
      "Vowel-focused correctly guessed 'a'.\n",
      "Vowel-focused correctly guessed 'l'.\n",
      "Vowel-focused correctly guessed 'c'.\n",
      "Vowel-focused correctly guessed 'p'.\n",
      "Vowel-focused correctly guessed 'r'.\n",
      "Vowel-focused correctly guessed 't'.\n",
      "Vowel-focused got 'practical' in 8.\n",
      "Random incorrectly guessed 'f'.\n",
      "Random incorrectly guessed 'm'.\n",
      "Random incorrectly guessed 'o'.\n",
      "Random incorrectly guessed 'j'.\n",
      "Random correctly guessed 'l'.\n",
      "Random incorrectly guessed 'q'.\n",
      "Random incorrectly guessed 'g'.\n",
      "Random incorrectly guessed 'w'.\n",
      "Random correctly guessed 'a'.\n",
      "Random incorrectly guessed 'z'.\n",
      "Random correctly guessed 'c'.\n",
      "Random incorrectly guessed 'v'.\n",
      "Random correctly guessed 'p'.\n",
      "Random incorrectly guessed 'y'.\n",
      "Random incorrectly guessed 'n'.\n",
      "Random incorrectly guessed 'u'.\n",
      "Random incorrectly guessed 'e'.\n",
      "Random incorrectly guessed 'k'.\n",
      "Random correctly guessed 't'.\n",
      "Random incorrectly guessed 's'.\n",
      "Random incorrectly guessed 'h'.\n",
      "Random incorrectly guessed 'x'.\n",
      "Random correctly guessed 'r'.\n",
      "Random incorrectly guessed 'b'.\n",
      "Random incorrectly guessed 'd'.\n",
      "Random correctly guessed 'i'.\n",
      "Random got 'practical' in 26.\n"
     ]
    }
   ],
   "source": [
    "word = \"practical\"\n",
    "players = [\n",
    "    HangManPlayer(\"Simple\", SimpleHangManStrategy()),\n",
    "    HangManPlayer(\"Vowel-focused\", VowelHangManStrategy(bias=1)),\n",
    "    HangManPlayer(\"Random\", RandomHangManStrategy())\n",
    "]\n",
    "compare_players(word, players)"
   ]
  },
  {
   "cell_type": "code",
   "execution_count": null,
   "metadata": {},
   "outputs": [],
   "source": []
  }
 ],
 "metadata": {
  "kernelspec": {
   "display_name": "Python 3",
   "language": "python",
   "name": "python3"
  },
  "language_info": {
   "codemirror_mode": {
    "name": "ipython",
    "version": 3
   },
   "file_extension": ".py",
   "mimetype": "text/x-python",
   "name": "python",
   "nbconvert_exporter": "python",
   "pygments_lexer": "ipython3",
   "version": "3.7.7"
  }
 },
 "nbformat": 4,
 "nbformat_minor": 4
}
