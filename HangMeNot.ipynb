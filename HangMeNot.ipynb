{
 "cells": [
  {
   "cell_type": "code",
   "execution_count": 1,
   "metadata": {},
   "outputs": [],
   "source": [
    "import string # for lowercase letter list\n",
    "import numpy as np\n",
    "import math"
   ]
  },
  {
   "cell_type": "code",
   "execution_count": 2,
   "metadata": {},
   "outputs": [],
   "source": [
    "with open('/usr/share/dict/words') as o:\n",
    "    DICTIONARY = set([s.strip() for s in o.readlines() if not s[0].isupper()])"
   ]
  },
  {
   "cell_type": "code",
   "execution_count": 3,
   "metadata": {},
   "outputs": [],
   "source": [
    "LETTERS =  string.ascii_lowercase"
   ]
  },
  {
   "cell_type": "code",
   "execution_count": 128,
   "metadata": {},
   "outputs": [],
   "source": [
    "class RandomHangManStrategy:\n",
    " \n",
    "    def start(self):\n",
    "        \"\"\"Reset any internal state\"\"\"\n",
    "        np.random.seed(1)\n",
    "        \n",
    "    def guess(self, word, excluded_letters, possibilities):\n",
    "        possible_letter = [letter for letter in LETTERS if not letter in excluded_letters]\n",
    "        return np.random.choice(possible_letter, 1)[0]"
   ]
  },
  {
   "cell_type": "code",
   "execution_count": 143,
   "metadata": {},
   "outputs": [],
   "source": [
    "class MaxEntropyHangManStrategy:\n",
    "    \"\"\"Guess picks the letter that maximises the product E * I where E and I are \n",
    "    the number of words excluded (E) or included (I) by a given guess.\"\"\"\n",
    "    def start(self):\n",
    "        \"\"\"Reset any internal state\"\"\"\n",
    "        pass\n",
    "    \n",
    "    def guess(self, word, excluded_letters, possibilities):\n",
    "        possible_letters = [letter for letter in LETTERS if not letter in excluded_letters]\n",
    "        \n",
    "        include_exclude_counts = {}\n",
    "        for letter in possible_letters:\n",
    "            include_count = 0\n",
    "            for word in possibilities:\n",
    "                if letter in word:\n",
    "                    include_count += 1\n",
    "            include_exclude_counts[letter] = (include_count, len(possibilities) - include_count)\n",
    "        \n",
    "        best_letter, max_measure = '?', -1\n",
    "        for letter, (include_count, exlude_count) in include_exclude_counts.items():\n",
    "            measure = include_count * exclude_count\n",
    "            if measure > max_measure and letter not in excluded_letters:\n",
    "                max_measure = measure\n",
    "                best_letter = letter\n",
    "                \n",
    "        return best_letter"
   ]
  },
  {
   "cell_type": "code",
   "execution_count": 144,
   "metadata": {},
   "outputs": [],
   "source": [
    "class SimpleHangManStrategy:\n",
    "    \"\"\"Guess picks the most common letter in the remaining possible words.\"\"\"\n",
    "    def start(self):\n",
    "        \"\"\"Reset any internal state\"\"\"\n",
    "        pass\n",
    "    \n",
    "    def guess(self, word, excluded_letters, possibilities):\n",
    "        letter_counts = {}\n",
    "        for word in possibilities:\n",
    "            for letter in word:\n",
    "                if letter in letter_counts:\n",
    "                    letter_counts[letter] += 1\n",
    "                else:\n",
    "                    letter_counts[letter] = 1\n",
    "        \n",
    "        most_common_letter, max_count = '?', 0\n",
    "        for letter, count in letter_counts.items():\n",
    "            if count > max_count and letter not in excluded_letters:\n",
    "                max_count = count\n",
    "                most_common_letter = letter\n",
    "                \n",
    "        return most_common_letter"
   ]
  },
  {
   "cell_type": "code",
   "execution_count": 145,
   "metadata": {},
   "outputs": [],
   "source": [
    "class VowelHangManStrategy:\n",
    "    \"\"\"Guess picks the most common letter in the remaining possible words but weights \n",
    "    some letters according to a supplied bias.\n",
    "    \n",
    "    When `bias == 1` this strategy is the same as the SimpleHangManStrategy\"\"\"\n",
    "    \n",
    "    def __init__(self, bias=1):\n",
    "        self.common_letters = ['a', 'e', 'i', 'o', 'u', 'y']\n",
    "        self.bias = bias\n",
    "    \n",
    "    def start(self):\n",
    "        \"\"\"Reset any internal state\"\"\"\n",
    "        pass\n",
    "    \n",
    "    def guess(self, word, excluded_letters, possibilities):\n",
    "        letter_counts = {}\n",
    "        for word in possibilities:\n",
    "            for letter in word:\n",
    "                if letter in self.common_letters:\n",
    "                    if letter in letter_counts:\n",
    "                        letter_counts[letter] += 1 * self.bias\n",
    "                    else:\n",
    "                        letter_counts[letter] = 1 * self.bias\n",
    "                else:\n",
    "                    if letter in letter_counts:\n",
    "                        letter_counts[letter] += 1\n",
    "                    else:\n",
    "                        letter_counts[letter] = 1\n",
    "        \n",
    "        most_common_letter, max_count = '?', 0\n",
    "        for letter, count in letter_counts.items():\n",
    "            if count > max_count and letter not in excluded_letters:\n",
    "                max_count = count\n",
    "                most_common_letter = letter\n",
    "                \n",
    "        return most_common_letter"
   ]
  },
  {
   "cell_type": "code",
   "execution_count": 146,
   "metadata": {},
   "outputs": [],
   "source": [
    "class HangManPlayer:\n",
    "    \n",
    "    def start(self, word_length):\n",
    "        self.excluded_letters = []\n",
    "        self.word = '?' * word_length\n",
    "        self.possibilities = sorted([word for word in DICTIONARY if len(word) == word_length])\n",
    "        self.guesses = 0\n",
    "        self._strategy.start()\n",
    "    \n",
    "    def __init__(self, strategy):\n",
    "        self.name = type(strategy).__name__\n",
    "        self._strategy = strategy\n",
    "        \n",
    "    def guess(self):\n",
    "        if '?' not in self.word:\n",
    "            return f'The word is {self.word}. Guessed in {self.guesses} tries'\n",
    "        \n",
    "        if len(self.possibilities) == 0:\n",
    "            return f'No possible words to try: {self.word}' \n",
    "        \n",
    "        self.guesses += 1\n",
    "        return self._strategy.guess(self.word, self.excluded_letters, self.possibilities)\n",
    "    \n",
    "    def finished(self):\n",
    "        return '?' not in self.word\n",
    "    \n",
    "    @staticmethod\n",
    "    def _keep_word(word, letter, positions):\n",
    "        for i in range(len(word)):\n",
    "            if word[i] != letter and i in positions:\n",
    "                return False\n",
    "            elif word[i] == letter and i not in positions:\n",
    "                return False\n",
    "        return True\n",
    "    \n",
    "    def update_word(self, letter, positions=None):\n",
    "        positions = positions or []\n",
    "        self.excluded_letters.append(letter)\n",
    " \n",
    "        # Update word\n",
    "        updated_word = [letter for letter in self.word]\n",
    "        for position in positions:\n",
    "            if updated_word[position] != '?':\n",
    "                raise Exception(f'Letter at position {position} is already specified as {updated_word[position]}')\n",
    "            updated_word[position] = letter\n",
    "        self.word = ''.join(updated_word)\n",
    "\n",
    "        # Update possibilities\n",
    "        self.possibilities = [\n",
    "            word for word in self.possibilities \n",
    "            if HangManPlayer._keep_word(word, letter, positions)\n",
    "        ]"
   ]
  },
  {
   "cell_type": "code",
   "execution_count": 147,
   "metadata": {},
   "outputs": [],
   "source": [
    "class HangManGame:\n",
    "    \n",
    "    def __init__(self, word, player):\n",
    "        self.word = word\n",
    "        self.player = player\n",
    "        self.steps = 0\n",
    "        \n",
    "    def finished(self):\n",
    "        return self.player.finished()\n",
    "        \n",
    "    def step(self):\n",
    "        assert not self.finished(), \"Game is finished!\"\n",
    "        self.steps += 1\n",
    "        guess = self.player.guess()\n",
    "        positions = []\n",
    "        for i, letter in enumerate(self.word):\n",
    "            if letter == guess:\n",
    "                positions.append(i)\n",
    "        self.player.update_word(guess, positions)"
   ]
  },
  {
   "cell_type": "code",
   "execution_count": 148,
   "metadata": {},
   "outputs": [],
   "source": [
    "def run_game(word, player):\n",
    "    if word not in DICTIONARY:\n",
    "        raise Exception(f\"Suggested word '{word}' is not in the provided dictionary - is the spelling correct?\")\n",
    "    game = HangManGame(word, player)\n",
    "    player.start(len(word))\n",
    "\n",
    "    while not game.finished():\n",
    "        game.step()\n",
    "    print(f\"{player.name} got '{word}' in {game.steps}.\")"
   ]
  },
  {
   "cell_type": "code",
   "execution_count": 149,
   "metadata": {},
   "outputs": [],
   "source": [
    "def compare_players(word, players):\n",
    "    for player in players:\n",
    "        run_game(word, player) "
   ]
  },
  {
   "cell_type": "code",
   "execution_count": 150,
   "metadata": {},
   "outputs": [
    {
     "name": "stdout",
     "output_type": "stream",
     "text": [
      "SimpleHangManStrategy got 'shoutingly' in 12.\n",
      "VowelHangManStrategy got 'shoutingly' in 13.\n",
      "RandomHangManStrategy got 'shoutingly' in 26.\n"
     ]
    },
    {
     "ename": "NameError",
     "evalue": "name 'exclude_count' is not defined",
     "output_type": "error",
     "traceback": [
      "\u001b[0;31m---------------------------------------------------------------------------\u001b[0m",
      "\u001b[0;31mNameError\u001b[0m                                 Traceback (most recent call last)",
      "\u001b[0;32m<ipython-input-150-63355c86c5e6>\u001b[0m in \u001b[0;36m<module>\u001b[0;34m\u001b[0m\n\u001b[1;32m      7\u001b[0m \u001b[0mnp\u001b[0m\u001b[0;34m.\u001b[0m\u001b[0mrandom\u001b[0m\u001b[0;34m.\u001b[0m\u001b[0mseed\u001b[0m\u001b[0;34m(\u001b[0m\u001b[0;36m101\u001b[0m\u001b[0;34m)\u001b[0m\u001b[0;34m\u001b[0m\u001b[0;34m\u001b[0m\u001b[0m\n\u001b[1;32m      8\u001b[0m \u001b[0;32mfor\u001b[0m \u001b[0mword\u001b[0m \u001b[0;32min\u001b[0m \u001b[0mnp\u001b[0m\u001b[0;34m.\u001b[0m\u001b[0mrandom\u001b[0m\u001b[0;34m.\u001b[0m\u001b[0mchoice\u001b[0m\u001b[0;34m(\u001b[0m\u001b[0;34m[\u001b[0m\u001b[0mw\u001b[0m \u001b[0;32mfor\u001b[0m \u001b[0mw\u001b[0m \u001b[0;32min\u001b[0m \u001b[0mDICTIONARY\u001b[0m\u001b[0;34m]\u001b[0m\u001b[0;34m,\u001b[0m \u001b[0;36m50\u001b[0m\u001b[0;34m)\u001b[0m\u001b[0;34m:\u001b[0m\u001b[0;34m\u001b[0m\u001b[0;34m\u001b[0m\u001b[0m\n\u001b[0;32m----> 9\u001b[0;31m     \u001b[0mcompare_players\u001b[0m\u001b[0;34m(\u001b[0m\u001b[0mword\u001b[0m\u001b[0;34m,\u001b[0m \u001b[0mplayers\u001b[0m\u001b[0;34m)\u001b[0m\u001b[0;34m\u001b[0m\u001b[0;34m\u001b[0m\u001b[0m\n\u001b[0m\u001b[1;32m     10\u001b[0m     \u001b[0mprint\u001b[0m\u001b[0;34m(\u001b[0m\u001b[0;34m'\\n'\u001b[0m \u001b[0;34m+\u001b[0m \u001b[0;34m'='\u001b[0m\u001b[0;34m*\u001b[0m\u001b[0;36m80\u001b[0m \u001b[0;34m+\u001b[0m \u001b[0;34m'\\n'\u001b[0m\u001b[0;34m)\u001b[0m\u001b[0;34m\u001b[0m\u001b[0;34m\u001b[0m\u001b[0m\n",
      "\u001b[0;32m<ipython-input-149-8cffd5b25190>\u001b[0m in \u001b[0;36mcompare_players\u001b[0;34m(word, players)\u001b[0m\n\u001b[1;32m      1\u001b[0m \u001b[0;32mdef\u001b[0m \u001b[0mcompare_players\u001b[0m\u001b[0;34m(\u001b[0m\u001b[0mword\u001b[0m\u001b[0;34m,\u001b[0m \u001b[0mplayers\u001b[0m\u001b[0;34m)\u001b[0m\u001b[0;34m:\u001b[0m\u001b[0;34m\u001b[0m\u001b[0;34m\u001b[0m\u001b[0m\n\u001b[1;32m      2\u001b[0m     \u001b[0;32mfor\u001b[0m \u001b[0mplayer\u001b[0m \u001b[0;32min\u001b[0m \u001b[0mplayers\u001b[0m\u001b[0;34m:\u001b[0m\u001b[0;34m\u001b[0m\u001b[0;34m\u001b[0m\u001b[0m\n\u001b[0;32m----> 3\u001b[0;31m         \u001b[0mrun_game\u001b[0m\u001b[0;34m(\u001b[0m\u001b[0mword\u001b[0m\u001b[0;34m,\u001b[0m \u001b[0mplayer\u001b[0m\u001b[0;34m)\u001b[0m\u001b[0;34m\u001b[0m\u001b[0;34m\u001b[0m\u001b[0m\n\u001b[0m",
      "\u001b[0;32m<ipython-input-148-3c6e82d41be1>\u001b[0m in \u001b[0;36mrun_game\u001b[0;34m(word, player)\u001b[0m\n\u001b[1;32m      6\u001b[0m \u001b[0;34m\u001b[0m\u001b[0m\n\u001b[1;32m      7\u001b[0m     \u001b[0;32mwhile\u001b[0m \u001b[0;32mnot\u001b[0m \u001b[0mgame\u001b[0m\u001b[0;34m.\u001b[0m\u001b[0mfinished\u001b[0m\u001b[0;34m(\u001b[0m\u001b[0;34m)\u001b[0m\u001b[0;34m:\u001b[0m\u001b[0;34m\u001b[0m\u001b[0;34m\u001b[0m\u001b[0m\n\u001b[0;32m----> 8\u001b[0;31m         \u001b[0mgame\u001b[0m\u001b[0;34m.\u001b[0m\u001b[0mstep\u001b[0m\u001b[0;34m(\u001b[0m\u001b[0;34m)\u001b[0m\u001b[0;34m\u001b[0m\u001b[0;34m\u001b[0m\u001b[0m\n\u001b[0m\u001b[1;32m      9\u001b[0m     \u001b[0mprint\u001b[0m\u001b[0;34m(\u001b[0m\u001b[0;34mf\"{player.name} got '{word}' in {game.steps}.\"\u001b[0m\u001b[0;34m)\u001b[0m\u001b[0;34m\u001b[0m\u001b[0;34m\u001b[0m\u001b[0m\n",
      "\u001b[0;32m<ipython-input-147-ac5454eedc1e>\u001b[0m in \u001b[0;36mstep\u001b[0;34m(self)\u001b[0m\n\u001b[1;32m     12\u001b[0m         \u001b[0;32massert\u001b[0m \u001b[0;32mnot\u001b[0m \u001b[0mself\u001b[0m\u001b[0;34m.\u001b[0m\u001b[0mfinished\u001b[0m\u001b[0;34m(\u001b[0m\u001b[0;34m)\u001b[0m\u001b[0;34m,\u001b[0m \u001b[0;34m\"Game is finished!\"\u001b[0m\u001b[0;34m\u001b[0m\u001b[0;34m\u001b[0m\u001b[0m\n\u001b[1;32m     13\u001b[0m         \u001b[0mself\u001b[0m\u001b[0;34m.\u001b[0m\u001b[0msteps\u001b[0m \u001b[0;34m+=\u001b[0m \u001b[0;36m1\u001b[0m\u001b[0;34m\u001b[0m\u001b[0;34m\u001b[0m\u001b[0m\n\u001b[0;32m---> 14\u001b[0;31m         \u001b[0mguess\u001b[0m \u001b[0;34m=\u001b[0m \u001b[0mself\u001b[0m\u001b[0;34m.\u001b[0m\u001b[0mplayer\u001b[0m\u001b[0;34m.\u001b[0m\u001b[0mguess\u001b[0m\u001b[0;34m(\u001b[0m\u001b[0;34m)\u001b[0m\u001b[0;34m\u001b[0m\u001b[0;34m\u001b[0m\u001b[0m\n\u001b[0m\u001b[1;32m     15\u001b[0m         \u001b[0mpositions\u001b[0m \u001b[0;34m=\u001b[0m \u001b[0;34m[\u001b[0m\u001b[0;34m]\u001b[0m\u001b[0;34m\u001b[0m\u001b[0;34m\u001b[0m\u001b[0m\n\u001b[1;32m     16\u001b[0m         \u001b[0;32mfor\u001b[0m \u001b[0mi\u001b[0m\u001b[0;34m,\u001b[0m \u001b[0mletter\u001b[0m \u001b[0;32min\u001b[0m \u001b[0menumerate\u001b[0m\u001b[0;34m(\u001b[0m\u001b[0mself\u001b[0m\u001b[0;34m.\u001b[0m\u001b[0mword\u001b[0m\u001b[0;34m)\u001b[0m\u001b[0;34m:\u001b[0m\u001b[0;34m\u001b[0m\u001b[0;34m\u001b[0m\u001b[0m\n",
      "\u001b[0;32m<ipython-input-146-76aa15b00a23>\u001b[0m in \u001b[0;36mguess\u001b[0;34m(self)\u001b[0m\n\u001b[1;32m     20\u001b[0m \u001b[0;34m\u001b[0m\u001b[0m\n\u001b[1;32m     21\u001b[0m         \u001b[0mself\u001b[0m\u001b[0;34m.\u001b[0m\u001b[0mguesses\u001b[0m \u001b[0;34m+=\u001b[0m \u001b[0;36m1\u001b[0m\u001b[0;34m\u001b[0m\u001b[0;34m\u001b[0m\u001b[0m\n\u001b[0;32m---> 22\u001b[0;31m         \u001b[0;32mreturn\u001b[0m \u001b[0mself\u001b[0m\u001b[0;34m.\u001b[0m\u001b[0m_strategy\u001b[0m\u001b[0;34m.\u001b[0m\u001b[0mguess\u001b[0m\u001b[0;34m(\u001b[0m\u001b[0mself\u001b[0m\u001b[0;34m.\u001b[0m\u001b[0mword\u001b[0m\u001b[0;34m,\u001b[0m \u001b[0mself\u001b[0m\u001b[0;34m.\u001b[0m\u001b[0mexcluded_letters\u001b[0m\u001b[0;34m,\u001b[0m \u001b[0mself\u001b[0m\u001b[0;34m.\u001b[0m\u001b[0mpossibilities\u001b[0m\u001b[0;34m)\u001b[0m\u001b[0;34m\u001b[0m\u001b[0;34m\u001b[0m\u001b[0m\n\u001b[0m\u001b[1;32m     23\u001b[0m \u001b[0;34m\u001b[0m\u001b[0m\n\u001b[1;32m     24\u001b[0m     \u001b[0;32mdef\u001b[0m \u001b[0mfinished\u001b[0m\u001b[0;34m(\u001b[0m\u001b[0mself\u001b[0m\u001b[0;34m)\u001b[0m\u001b[0;34m:\u001b[0m\u001b[0;34m\u001b[0m\u001b[0;34m\u001b[0m\u001b[0m\n",
      "\u001b[0;32m<ipython-input-143-5b131be097af>\u001b[0m in \u001b[0;36mguess\u001b[0;34m(self, word, excluded_letters, possibilities)\u001b[0m\n\u001b[1;32m     20\u001b[0m         \u001b[0mbest_letter\u001b[0m\u001b[0;34m,\u001b[0m \u001b[0mmax_measure\u001b[0m \u001b[0;34m=\u001b[0m \u001b[0;34m'?'\u001b[0m\u001b[0;34m,\u001b[0m \u001b[0;34m-\u001b[0m\u001b[0;36m1\u001b[0m\u001b[0;34m\u001b[0m\u001b[0;34m\u001b[0m\u001b[0m\n\u001b[1;32m     21\u001b[0m         \u001b[0;32mfor\u001b[0m \u001b[0mletter\u001b[0m\u001b[0;34m,\u001b[0m \u001b[0;34m(\u001b[0m\u001b[0minclude_count\u001b[0m\u001b[0;34m,\u001b[0m \u001b[0mexlude_count\u001b[0m\u001b[0;34m)\u001b[0m \u001b[0;32min\u001b[0m \u001b[0minclude_exclude_counts\u001b[0m\u001b[0;34m.\u001b[0m\u001b[0mitems\u001b[0m\u001b[0;34m(\u001b[0m\u001b[0;34m)\u001b[0m\u001b[0;34m:\u001b[0m\u001b[0;34m\u001b[0m\u001b[0;34m\u001b[0m\u001b[0m\n\u001b[0;32m---> 22\u001b[0;31m             \u001b[0mmeasure\u001b[0m \u001b[0;34m=\u001b[0m \u001b[0minclude_count\u001b[0m \u001b[0;34m*\u001b[0m \u001b[0mexclude_count\u001b[0m\u001b[0;34m\u001b[0m\u001b[0;34m\u001b[0m\u001b[0m\n\u001b[0m\u001b[1;32m     23\u001b[0m             \u001b[0;32mif\u001b[0m \u001b[0mmeasure\u001b[0m \u001b[0;34m>\u001b[0m \u001b[0mmax_measure\u001b[0m \u001b[0;32mand\u001b[0m \u001b[0mletter\u001b[0m \u001b[0;32mnot\u001b[0m \u001b[0;32min\u001b[0m \u001b[0mexcluded_letters\u001b[0m\u001b[0;34m:\u001b[0m\u001b[0;34m\u001b[0m\u001b[0;34m\u001b[0m\u001b[0m\n\u001b[1;32m     24\u001b[0m                 \u001b[0mmax_measure\u001b[0m \u001b[0;34m=\u001b[0m \u001b[0mmeasure\u001b[0m\u001b[0;34m\u001b[0m\u001b[0;34m\u001b[0m\u001b[0m\n",
      "\u001b[0;31mNameError\u001b[0m: name 'exclude_count' is not defined"
     ]
    }
   ],
   "source": [
    "players = [\n",
    "    HangManPlayer(SimpleHangManStrategy()),\n",
    "    HangManPlayer(VowelHangManStrategy(bias=4)),\n",
    "    HangManPlayer(RandomHangManStrategy()),\n",
    "    HangManPlayer(MaxEntropyHangManStrategy())\n",
    "]\n",
    "np.random.seed(101)\n",
    "for word in np.random.choice([w for w in DICTIONARY], 50):\n",
    "    compare_players(word, players)\n",
    "    print('\\n' + '='*80 + '\\n')"
   ]
  },
  {
   "cell_type": "code",
   "execution_count": null,
   "metadata": {},
   "outputs": [],
   "source": []
  }
 ],
 "metadata": {
  "kernelspec": {
   "display_name": "Python 3",
   "language": "python",
   "name": "python3"
  },
  "language_info": {
   "codemirror_mode": {
    "name": "ipython",
    "version": 3
   },
   "file_extension": ".py",
   "mimetype": "text/x-python",
   "name": "python",
   "nbconvert_exporter": "python",
   "pygments_lexer": "ipython3",
   "version": "3.7.7"
  }
 },
 "nbformat": 4,
 "nbformat_minor": 4
}
