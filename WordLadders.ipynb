{
 "cells": [
  {
   "cell_type": "code",
   "execution_count": 1,
   "metadata": {},
   "outputs": [],
   "source": [
    "import string # for lowercase letter list"
   ]
  },
  {
   "cell_type": "code",
   "execution_count": 2,
   "metadata": {},
   "outputs": [],
   "source": [
    "with open('/usr/share/dict/words') as o:\n",
    "    DICTIONARY = set([s.strip() for s in o.readlines() if not s[0].isupper()])"
   ]
  },
  {
   "cell_type": "code",
   "execution_count": 3,
   "metadata": {},
   "outputs": [],
   "source": [
    "class Mutator:\n",
    "    def __init__(self, dictionary):\n",
    "        self.letters =  string.ascii_lowercase\n",
    "        self.dictionary = dictionary\n",
    "        \n",
    "    def __call__(self, word):\n",
    "        \"\"\"List all the valid point mutations that can be made to a word\"\"\"\n",
    "        words = []\n",
    "\n",
    "        # Insertions\n",
    "        for position in range(len(word)+1):\n",
    "            for letter in self.letters:\n",
    "                new_word = word[:position] + letter + word[position:]\n",
    "                if new_word in self.dictionary:\n",
    "                    words.append(new_word)\n",
    "\n",
    "        # Removals\n",
    "        for position in range(len(word)):\n",
    "            new_word = word[:position] + word[position+1:]\n",
    "            if new_word in self.dictionary:\n",
    "                words.append(new_word)\n",
    "\n",
    "        # Substitutions\n",
    "        for position in range(len(word)):\n",
    "            for letter in (l for l in self.letters if not l == word[position]):\n",
    "                new_word = word[:position] + letter + word[position+1:]\n",
    "                if new_word in self.dictionary:\n",
    "                    words.append(new_word)\n",
    "\n",
    "        # Keep only valid words\n",
    "        return [word for word in words if word in self.dictionary]     "
   ]
  },
  {
   "cell_type": "code",
   "execution_count": 5,
   "metadata": {},
   "outputs": [],
   "source": [
    "class WordPath:\n",
    "    def __init__(self, word, path = None):\n",
    "        self._head = word\n",
    "        self._tail = path\n",
    "        \n",
    "    def step(self, word):\n",
    "        return WordPath(word, self)\n",
    "        \n",
    "    @property    \n",
    "    def head(self):\n",
    "        return self._head\n",
    "        \n",
    "    def __repr__(self):\n",
    "        words = [self._head]\n",
    "        current = self\n",
    "        while current._tail:\n",
    "            current = current._tail\n",
    "            words = [current._head] + words\n",
    "        return \", \".join(words)"
   ]
  },
  {
   "cell_type": "code",
   "execution_count": 6,
   "metadata": {},
   "outputs": [],
   "source": [
    "class WordTree:\n",
    "    def __init__(self, word:str):\n",
    "        self.paths = [WordPath(word)]\n",
    "        self.words = set()\n",
    "        \n",
    "        self.mutator = Mutator(DICTIONARY)\n",
    "        \n",
    "    def step(self, n=1):\n",
    "        new_paths = []\n",
    "        for path in self.paths:\n",
    "            next_words = self.mutator(path.head)\n",
    "            for next_word in next_words:\n",
    "                if next_word in self.words:\n",
    "                    continue\n",
    "                new_paths.append(path.step(next_word))\n",
    "                self.words.add(next_word)\n",
    "        if not new_paths:\n",
    "            raise RuntimeError(\"No path could be found\")\n",
    "        self.paths = new_paths\n",
    "        \n",
    "    def __repr__(self):\n",
    "        return \"<WordTree([{}])>\".format(\", \".join(str(path) for path in self.paths))"
   ]
  },
  {
   "cell_type": "code",
   "execution_count": 7,
   "metadata": {},
   "outputs": [],
   "source": [
    "def find_path(start, end):\n",
    "    wordTree = WordTree(start)\n",
    "    while True:\n",
    "        wordTree.step()\n",
    "        for path in wordTree.paths:\n",
    "            if path.head == end:\n",
    "                return path"
   ]
  },
  {
   "cell_type": "code",
   "execution_count": 12,
   "metadata": {},
   "outputs": [
    {
     "data": {
      "text/plain": [
       "cat, cast, caste, caster, baster, basker, basket"
      ]
     },
     "execution_count": 12,
     "metadata": {},
     "output_type": "execute_result"
    }
   ],
   "source": [
    "find_path(\"cat\", \"basket\")"
   ]
  },
  {
   "cell_type": "code",
   "execution_count": null,
   "metadata": {},
   "outputs": [],
   "source": []
  }
 ],
 "metadata": {
  "kernelspec": {
   "display_name": "Python 3",
   "language": "python",
   "name": "python3"
  },
  "language_info": {
   "codemirror_mode": {
    "name": "ipython",
    "version": 3
   },
   "file_extension": ".py",
   "mimetype": "text/x-python",
   "name": "python",
   "nbconvert_exporter": "python",
   "pygments_lexer": "ipython3",
   "version": "3.7.6"
  }
 },
 "nbformat": 4,
 "nbformat_minor": 4
}
