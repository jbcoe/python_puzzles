{
 "cells": [
  {
   "cell_type": "code",
   "execution_count": 1,
   "metadata": {},
   "outputs": [],
   "source": [
    "import numpy as np\n",
    "import random\n",
    "import IPython.display\n",
    "import PIL.Image\n",
    "from io import BytesIO"
   ]
  },
  {
   "cell_type": "code",
   "execution_count": 2,
   "metadata": {},
   "outputs": [],
   "source": [
    "class Coordinate(object):\n",
    "    \n",
    "    def __init__(self, x, y):\n",
    "        self.x = x\n",
    "        self.y = y\n",
    "\n",
    "    def step(self, direction):\n",
    "        return Coordinate(\n",
    "            self.x + direction.x, \n",
    "            self.y + direction.y\n",
    "        )\n",
    "        \n",
    "    def __repr__(self):\n",
    "        return f\"Coordinate({self.x}, {self.y})\"\n",
    "        \n",
    "    def __eq__(self, obj):\n",
    "        return self.x == obj.x and self.y == obj.y\n",
    "        \n",
    "    def __hash__(self):\n",
    "        return hash((self.x, self.y))\n",
    "        \n",
    "directions = [Coordinate(x,y) for x,y in [(0,1), (0,-1), (1,0), (-1,0)]]"
   ]
  },
  {
   "cell_type": "code",
   "execution_count": 3,
   "metadata": {},
   "outputs": [],
   "source": [
    "class Digger(object):\n",
    "    \n",
    "    def __init__(self,maze,location,seed=101):\n",
    "        np.random.seed(seed)\n",
    "        self.maze = maze\n",
    "        self.location = location\n",
    "        self.maze.enter_cell(location)\n",
    "        self.walk = [location]\n",
    "        \n",
    "    def walk_maze(self):\n",
    "        while len(self.walk):\n",
    "            possible_steps = self.maze.available_steps(self.location)\n",
    "            if len(possible_steps) == 0:\n",
    "                self.location = self.walk.pop()\n",
    "                continue\n",
    "            next_step = np.random.choice(possible_steps, 1)[0]\n",
    "            self.maze.dig_step(self.location, next_step)\n",
    "            self.location = next_step\n",
    "            self.walk.append(self.location)\n",
    "            \n",
    "            \n",
    "class Maze(object):\n",
    "    \n",
    "    def __init__(self, *, size=50, render_size=800, seed=101):\n",
    "        self.render_size = render_size\n",
    "        self.N = size\n",
    "        self.space = np.zeros([self.N,self.N], dtype=np.bool)\n",
    "        self.visitable_cells = set([Coordinate(x,y) for x in range(1,self.N-1) for y in range(1,self.N-1)])\n",
    "        Digger(self,Coordinate(1,1),seed).walk_maze()\n",
    "        \n",
    "    def enter_cell(self, location):\n",
    "        self.space[location.x, location.y] = True\n",
    "        self.visitable_cells.discard(location)\n",
    "    \n",
    "    def dig_step(self, location, new_location):\n",
    "        self.space[new_location.x, new_location.y] = True\n",
    "        self.visitable_cells.discard(new_location)\n",
    "        \n",
    "    def available_steps(self, location):\n",
    "        possible_cells = [location.step(d) for d in directions]\n",
    "        possible_cells = [c for c in possible_cells if c in self.visitable_cells]\n",
    "\n",
    "        step_cells = []\n",
    "        for c in possible_cells:\n",
    "            neighbours = [c.step(d) for d in directions]\n",
    "            valid = True\n",
    "            for n in neighbours:\n",
    "                # Don't double back or join up existing paths.\n",
    "                if n != location and self.space[n.x, n.y]==True:\n",
    "                    valid = False\n",
    "                    break\n",
    "            if valid:\n",
    "                step_cells.append(c)\n",
    "        \n",
    "        return step_cells\n",
    "\n",
    "    @property\n",
    "    def img(self): \n",
    "        img = PIL.Image.fromarray(self.space).resize(\n",
    "                  (self.render_size, self.render_size), \n",
    "                  PIL.Image.BOX\n",
    "              )\n",
    "        return img\n",
    "    \n",
    "    def save(self, path):  \n",
    "        self.img.save(path, format='png')\n",
    "    \n",
    "    def _repr_png_(self):       \n",
    "        b = BytesIO()\n",
    "        self.img.save(b, format='png')\n",
    "        return b.getvalue()\n",
    "\n",
    "    "
   ]
  },
  {
   "cell_type": "code",
   "execution_count": 9,
   "metadata": {},
   "outputs": [
    {
     "data": {
      "image/png": "[encoded data removed]",
      "text/plain": [
       "<__main__.Maze at 0x7fcd19147d50>"
      ]
     },
     "execution_count": 9,
     "metadata": {},
     "output_type": "execute_result"
    }
   ],
   "source": [
    "Maze(size=20,seed=2)"
   ]
  },
  {
   "cell_type": "code",
   "execution_count": 16,
   "metadata": {},
   "outputs": [],
   "source": [
    "for seed in [1,2,3,4,5]:\n",
    "    Maze(size=60, seed=seed).save(f\"maze-60-{seed}.png\")"
   ]
  }
 ],
 "metadata": {
  "kernelspec": {
   "display_name": "Python 3",
   "language": "python",
   "name": "python3"
  },
  "language_info": {
   "codemirror_mode": {
    "name": "ipython",
    "version": 3
   },
   "file_extension": ".py",
   "mimetype": "text/x-python",
   "name": "python",
   "nbconvert_exporter": "python",
   "pygments_lexer": "ipython3",
   "version": "3.7.6"
  }
 },
 "nbformat": 4,
 "nbformat_minor": 4
}
